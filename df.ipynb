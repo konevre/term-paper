{
 "cells": [
  {
   "cell_type": "code",
   "execution_count": 125,
   "id": "0b13e3e5",
   "metadata": {},
   "outputs": [],
   "source": [
    "import pandas as pd\n",
    "import numpy as np\n",
    "import matplotlib.pyplot as plt"
   ]
  },
  {
   "cell_type": "code",
   "execution_count": 126,
   "id": "38712a35",
   "metadata": {},
   "outputs": [],
   "source": [
    "df = pd.read_csv('cleaned2.csv')"
   ]
  },
  {
   "cell_type": "code",
   "execution_count": 127,
   "id": "31d00255",
   "metadata": {},
   "outputs": [
    {
     "name": "stdout",
     "output_type": "stream",
     "text": [
      "Male:  116 Female:  96\n"
     ]
    }
   ],
   "source": [
    "df.loc[df[\"sex\"] == \"Мужской\", 'sex'] = 1\n",
    "df.loc[df[\"sex\"] == \"Женский\", 'sex'] = 2\n",
    "df['birth'] -= 2022 \n",
    "df['birth'] *= -1\n",
    "df.birth.mean()\n",
    "print('Male: ', df.sex.value_counts()[1], 'Female: ', df.sex.value_counts()[2])"
   ]
  },
  {
   "cell_type": "code",
   "execution_count": 128,
   "id": "16bec445",
   "metadata": {},
   "outputs": [],
   "source": [
    "cities = df['city']"
   ]
  },
  {
   "cell_type": "code",
   "execution_count": 129,
   "id": "fdf41da2",
   "metadata": {},
   "outputs": [],
   "source": [
    "central = ['Москва', 'Иваново', 'Тверь', 'Воронеж', 'Ярославль', 'Владимир', 'Липецк', 'Курск', 'Смоленск', 'Белгород', 'Орёл', 'Тула'] \n",
    "northwestern = ['Санкт-Петербург', 'Сланцы', 'Петрозаводск', 'Калининград'] \n",
    "southern = ['Краснодар', 'Ростов-на-Дону', 'Абинск', 'Волгоград']  \n",
    "north_caucasian = ['Невинномысск', 'Ставрополь', 'Сочи'] \n",
    "volga = ['Казань', 'Пермь', 'Оренбург', 'Тольятти', 'Самара', 'Киров', 'Уфа', 'Баймак', 'Саратов', 'Ульяновск', 'Березники', 'Нижний Новгород', 'Дзержинск', 'Ижевск', 'Алатырь', 'Чебоксары'] \n",
    "ural = ['Екатеринбург', 'Челябинск', 'Магнитогорск', 'Тюмень', 'Тобольск', 'Сургут'] \n",
    "siberian = ['Новосибирск', 'Иркутск', 'Ангарск', 'Кемерово', 'Барнаул', 'Томск', 'Новокузнецк', 'Омск', 'Купино', 'Красноярск'] \n",
    "far_eastern = ['Арсеньев', 'Хабаровск']\n",
    "\n",
    "federal_districts = [central, northwestern, southern, north_caucasian, volga, ural, siberian, far_eastern]"
   ]
  },
  {
   "cell_type": "code",
   "execution_count": 130,
   "id": "e511ceda",
   "metadata": {},
   "outputs": [],
   "source": [
    "central = df.loc[df['city'].isin(central), :]\n",
    "northwestern = df.loc[df['city'].isin(northwestern), :]\n",
    "southern = df.loc[df['city'].isin(southern), :]\n",
    "north_caucasian = df.loc[df['city'].isin(north_caucasian), :]\n",
    "volga = df.loc[df['city'].isin(volga), :]\n",
    "ural = df.loc[df['city'].isin(ural), :]\n",
    "siberian = df.loc[df['city'].isin(siberian), :]\n",
    "far_eastern = df.loc[df['city'].isin(far_eastern), :]"
   ]
  },
  {
   "cell_type": "code",
   "execution_count": 131,
   "id": "56cd58fd",
   "metadata": {},
   "outputs": [
    {
     "name": "stdout",
     "output_type": "stream",
     "text": [
      "Central: 54\n",
      "Northwestern: 24\n",
      "Southern: 10\n",
      "North Caucasian: 4\n",
      "Volga: 41\n",
      "Ural: 12\n",
      "Siberian: 63\n",
      "Far eastern: 3\n"
     ]
    }
   ],
   "source": [
    "print(\"Central:\", central.count()[1])\n",
    "print(\"Northwestern:\", northwestern.count()[1])\n",
    "print(\"Southern:\", southern.count()[1])\n",
    "print(\"North Caucasian:\", north_caucasian.count()[1])\n",
    "print(\"Volga:\", volga.count()[1])\n",
    "print(\"Ural:\", ural.count()[1])\n",
    "print(\"Siberian:\", siberian.count()[1])\n",
    "print(\"Far eastern:\", far_eastern.count()[1])\n"
   ]
  },
  {
   "cell_type": "code",
   "execution_count": 132,
   "id": "3e6f4704",
   "metadata": {},
   "outputs": [
    {
     "name": "stdout",
     "output_type": "stream",
     "text": [
      "Age central min,max,avg:  18 ;  48 ;  28.314814814814813 --- Male:  34 Female:  20\n",
      "Age NorthWest min,max,avg:  19 ;  52 ;  28.0 --- Male:  13 Female:  11\n",
      "Age Southern min,max,avg:  22 ;  49 ;  30.6 --- Male:  3 Female:  7\n",
      "Age Caucausian min,max,avg:  22 ;  43 ;  34.75 --- Male:  2 Female:  2\n",
      "Age Volga min,max,avg:  16 ;  59 ;  31.097560975609756 --- Male:  28 Female:  13\n",
      "Age Ural min,max,avg:  22 ;  56 ;  34.833333333333336 --- Male:  6 Female:  6\n",
      "Age Siberian min,max,avg:  18 ;  53 ;  27.634920634920636 --- Male:  29 Female:  34\n",
      "Age Far Eastern min,max,avg:  23 ;  42 ;  35.666666666666664 --- Male:  1 Female:  2\n"
     ]
    }
   ],
   "source": [
    "print(\"Age central min,max,avg: \", central.birth.min(), \"; \", central.birth.max(), \"; \", central.birth.mean(), '--- Male: ', central.sex.value_counts()[1], 'Female: ', central.sex.value_counts()[2])\n",
    "print(\"Age NorthWest min,max,avg: \", northwestern.birth.min(), \"; \", northwestern.birth.max(), \"; \", northwestern.birth.mean(),'--- Male: ', northwestern.sex.value_counts()[1], 'Female: ', northwestern.sex.value_counts()[2])\n",
    "print(\"Age Southern min,max,avg: \", southern.birth.min(), \"; \", southern.birth.max(), \"; \", southern.birth.mean(),'--- Male: ', southern.sex.value_counts()[1], 'Female: ', southern.sex.value_counts()[2])\n",
    "print(\"Age Caucausian min,max,avg: \", north_caucasian.birth.min(), \"; \", north_caucasian.birth.max(), \"; \", north_caucasian.birth.mean(),'--- Male: ', north_caucasian.sex.value_counts()[1], 'Female: ', north_caucasian.sex.value_counts()[2])\n",
    "print(\"Age Volga min,max,avg: \", volga.birth.min(), \"; \", volga.birth.max(), \"; \", volga.birth.mean(),'--- Male: ', volga.sex.value_counts()[1], 'Female: ', volga.sex.value_counts()[2])\n",
    "print(\"Age Ural min,max,avg: \", ural.birth.min(), \"; \", ural.birth.max(), \"; \", ural.birth.mean(),'--- Male: ', ural.sex.value_counts()[1], 'Female: ', ural.sex.value_counts()[2])\n",
    "print(\"Age Siberian min,max,avg: \", siberian.birth.min(), \"; \", siberian.birth.max(), \"; \", siberian.birth.mean(),'--- Male: ', siberian.sex.value_counts()[1], 'Female: ', siberian.sex.value_counts()[2])\n",
    "print(\"Age Far Eastern min,max,avg: \", far_eastern.birth.min(), \"; \", far_eastern.birth.max(), \"; \", far_eastern.birth.mean(),'--- Male: ', far_eastern.sex.value_counts()[1], 'Female: ', far_eastern.sex.value_counts()[2])\n",
    "\n",
    "\n",
    "\n"
   ]
  },
  {
   "cell_type": "code",
   "execution_count": 133,
   "id": "95567c62",
   "metadata": {},
   "outputs": [],
   "source": [
    "central_vsm = central.loc[:, '21':'24']\n",
    "central_lbdq = central.loc[:, '1':'20']\n",
    "\n",
    "northwestern_vsm = northwestern.loc[:, '21':'24']\n",
    "northwestern_lbdq = northwestern.loc[:, '1':'20']\n",
    "\n",
    "southern_vsm = southern.loc[:, '21':'24']\n",
    "southern_lbdq = southern.loc[:, '1':'20']\n",
    "\n",
    "north_caucasian_vsm = north_caucasian.loc[:, '21':'24']\n",
    "north_caucasian_lbdq = north_caucasian.loc[:, '1':'20']\n",
    "\n",
    "volga_vsm = volga.loc[:, '21':'24']\n",
    "volga_lbdq = volga.loc[:, '1':'20']\n",
    "\n",
    "ural_vsm = ural.loc[:, '21':'24']\n",
    "ural_lbdq = ural.loc[:, '1':'20']\n",
    "\n",
    "siberian_vsm = siberian.loc[:, '21':'24']\n",
    "siberian_lbdq = siberian.loc[:, '1':'20']\n",
    "\n",
    "far_eastern_vsm = far_eastern.loc[:, '21':'24']\n",
    "far_eastern_lbdq = far_eastern.loc[:, '1':'20']\n",
    "\n",
    "russia_lbdq = df.loc[:, '1':'20']\n",
    "russia_vsm = df.loc[:, '21':'24']"
   ]
  },
  {
   "cell_type": "code",
   "execution_count": 134,
   "id": "c179e0f9",
   "metadata": {},
   "outputs": [],
   "source": [
    "central_vsm['vsm_score'] = central_vsm.apply(lambda row : 35*(row['22'] - row['21']) + 25*(row['23'] - row['24']), axis = 1)\n",
    "northwestern_vsm['vsm_score'] = northwestern_vsm.apply(lambda row : 35*(row['22'] - row['21']) + 25*(row['23'] - row['24']), axis = 1)\n",
    "southern_vsm['vsm_score'] = southern_vsm.apply(lambda row : 35*(row['22'] - row['21']) + 25*(row['23'] - row['24']), axis = 1)\n",
    "north_caucasian_vsm['vsm_score'] = north_caucasian_vsm.apply(lambda row : 35*(row['22'] - row['21']) + 25*(row['23'] - row['24']), axis = 1)\n",
    "volga_vsm['vsm_score'] = volga_vsm.apply(lambda row : 35*(row['22'] - row['21']) + 25*(row['23'] - row['24']), axis = 1)\n",
    "ural_vsm['vsm_score'] = ural_vsm.apply(lambda row : 35*(row['22'] - row['21']) + 25*(row['23'] - row['24']), axis = 1)\n",
    "siberian_vsm['vsm_score'] = siberian_vsm.apply(lambda row : 35*(row['22'] - row['21']) + 25*(row['23'] - row['24']), axis = 1)\n",
    "far_eastern_vsm['vsm_score'] = far_eastern_vsm.apply(lambda row : 35*(row['22'] - row['21']) + 25*(row['23'] - row['24']), axis = 1)\n",
    "russia_vsm['vsm_score'] = russia_vsm.apply(lambda row : 35*(row['22'] - row['21']) + 25*(row['23'] - row['24']), axis = 1)"
   ]
  },
  {
   "cell_type": "code",
   "execution_count": 135,
   "id": "66bae4c0",
   "metadata": {},
   "outputs": [
    {
     "name": "stdout",
     "output_type": "stream",
     "text": [
      "Central PDI: 45.74074074074074\n",
      "Central FD, tolerance: 3.668518518518519\n",
      "Central FD, consideration: 3.7574074074074075\n",
      "\n",
      "\n",
      "North Eastern PDI: 29.166666666666668\n",
      "North Eastern FD, tolerance: 3.9291666666666667\n",
      "North Eastern FD, consideration: 4.129166666666667\n",
      "\n",
      "\n",
      "Volga  PDI: 40.1219512195122\n",
      "Volga FD, tolerance: 3.595121951219512\n",
      "Volga FD, consideration: 3.8780487804878043\n",
      "\n",
      "\n",
      "Siberian  PDI: 33.17460317460318\n",
      "Siberian FD, tolerance: 3.8158730158730156\n",
      "Siberian FD, consideration: 4.073015873015873\n",
      "\n",
      "\n",
      "Russia PDI: 37.971698113207545\n",
      "Russia, tolerance: 3.7301886792452827\n",
      "Russia, consideration: 3.9523584905660383\n"
     ]
    }
   ],
   "source": [
    "central_tolerance = central_lbdq[['1', '3', '5', '7', '9', '11', '13', '15', '17', '19']]\n",
    "central_consideration = central_lbdq[['2', '4', '6', '8', '10', '12', '14', '16', '18', '20']]\n",
    "central_tolerance = central_tolerance.assign(mean=central_tolerance.mean(axis=1))\n",
    "central_consideration = central_consideration.assign(mean=central_consideration.mean(axis=1))\n",
    "\n",
    "northwestern_tolerance = northwestern_lbdq[['1', '3', '5', '7', '9', '11', '13', '15', '17', '19']]\n",
    "northwestern_consideration = northwestern_lbdq[['2', '4', '6', '8', '10', '12', '14', '16', '18', '20']]\n",
    "northwestern_tolerance = northwestern_tolerance.assign(mean=northwestern_tolerance.mean(axis=1))\n",
    "northwestern_consideration = northwestern_consideration.assign(mean=northwestern_consideration.mean(axis=1))\n",
    "\n",
    "southern_tolerance = southern_lbdq[['1', '3', '5', '7', '9', '11', '13', '15', '17', '19']]\n",
    "southern_consideration = southern_lbdq[['2', '4', '6', '8', '10', '12', '14', '16', '18', '20']]\n",
    "southern_tolerance = southern_tolerance.assign(mean=southern_tolerance.mean(axis=1))\n",
    "southern_consideration = southern_consideration.assign(mean=southern_consideration.mean(axis=1))\n",
    "\n",
    "north_caucasian_tolerance = north_caucasian_lbdq[['1', '3', '5', '7', '9', '11', '13', '15', '17', '19']]\n",
    "north_caucasian_consideration = north_caucasian_lbdq[['2', '4', '6', '8', '10', '12', '14', '16', '18', '20']]\n",
    "north_caucasian_tolerance = north_caucasian_tolerance.assign(mean=north_caucasian_tolerance.mean(axis=1))\n",
    "north_caucasian_consideration = north_caucasian_consideration.assign(mean=north_caucasian_consideration.mean(axis=1))\n",
    "\n",
    "volga_tolerance = volga_lbdq[['1', '3', '5', '7', '9', '11', '13', '15', '17', '19']]\n",
    "volga_consideration = volga_lbdq[['2', '4', '6', '8', '10', '12', '14', '16', '18', '20']]\n",
    "volga_tolerance = volga_tolerance.assign(mean=volga_tolerance.mean(axis=1))\n",
    "volga_consideration = volga_consideration.assign(mean=volga_consideration.mean(axis=1))\n",
    "\n",
    "ural_tolerance = ural_lbdq[['1', '3', '5', '7', '9', '11', '13', '15', '17', '19']]\n",
    "ural_consideration = ural_lbdq[['2', '4', '6', '8', '10', '12', '14', '16', '18', '20']]\n",
    "ural_tolerance = ural_tolerance.assign(mean=ural_tolerance.mean(axis=1))\n",
    "ural_consideration = ural_consideration.assign(mean=ural_consideration.mean(axis=1))\n",
    "\n",
    "siberian_tolerance = siberian_lbdq[['1', '3', '5', '7', '9', '11', '13', '15', '17', '19']]\n",
    "siberian_consideration = siberian_lbdq[['2', '4', '6', '8', '10', '12', '14', '16', '18', '20']]\n",
    "siberian_tolerance = siberian_tolerance.assign(mean=siberian_tolerance.mean(axis=1))\n",
    "siberian_consideration = siberian_consideration.assign(mean=siberian_consideration.mean(axis=1))\n",
    "\n",
    "far_eastern_tolerance = far_eastern_lbdq[['1', '3', '5', '7', '9', '11', '13', '15', '17', '19']]\n",
    "far_eastern_consideration = far_eastern_lbdq[['2', '4', '6', '8', '10', '12', '14', '16', '18', '20']]\n",
    "far_eastern_tolerance = far_eastern_tolerance.assign(mean=far_eastern_tolerance.mean(axis=1))\n",
    "far_eastern_consideration = far_eastern_consideration.assign(mean=far_eastern_consideration.mean(axis=1))\n",
    "\n",
    "russia_tolerance = russia_lbdq[['1', '3', '5', '7', '9', '11', '13', '15', '17', '19']]\n",
    "russia_consideration = russia_lbdq[['2', '4', '6', '8', '10', '12', '14', '16', '18', '20']]\n",
    "russia_tolerance = russia_tolerance.assign(mean=russia_tolerance.mean(axis=1))\n",
    "russia_consideration = russia_consideration.assign(mean=russia_consideration.mean(axis=1))\n",
    "\n",
    "russia_tolerance['mean']\n",
    "russia_consideration['mean']\n",
    "russia_vsm['vsm_score']\n",
    "\n",
    "print('Central PDI:', central_vsm['vsm_score'].mean())\n",
    "print('Central FD, tolerance:', central_tolerance['mean'].mean())\n",
    "print('Central FD, consideration:', central_consideration['mean'].mean())\n",
    "print('\\n')\n",
    "print('North Eastern PDI:', northwestern_vsm['vsm_score'].mean())\n",
    "print('North Eastern FD, tolerance:', northwestern_tolerance['mean'].mean())\n",
    "print('North Eastern FD, consideration:', northwestern_consideration['mean'].mean())\n",
    "print('\\n')\n",
    "print('Volga  PDI:', volga_vsm['vsm_score'].mean())\n",
    "print('Volga FD, tolerance:', volga_tolerance['mean'].mean())\n",
    "print('Volga FD, consideration:', volga_consideration['mean'].mean())\n",
    "print('\\n')\n",
    "print('Siberian  PDI:', siberian_vsm['vsm_score'].mean())\n",
    "print('Siberian FD, tolerance:', siberian_tolerance['mean'].mean())\n",
    "print('Siberian FD, consideration:', siberian_consideration['mean'].mean())\n",
    "print('\\n')\n",
    "print('Russia PDI:', russia_vsm['vsm_score'].mean())\n",
    "print('Russia, tolerance:', russia_tolerance['mean'].mean())\n",
    "print('Russia, consideration:', russia_consideration['mean'].mean())\n",
    "\n"
   ]
  },
  {
   "cell_type": "code",
   "execution_count": 136,
   "id": "25caef1c",
   "metadata": {},
   "outputs": [
    {
     "data": {
      "text/plain": [
       "(-42.531536072315,\n",
       " 196.63654577399012,\n",
       " -0.8649058563356598,\n",
       " 0.1350941436643402,\n",
       " 17.453155182663366)"
      ]
     },
     "execution_count": 136,
     "metadata": {},
     "output_type": "execute_result"
    }
   ],
   "source": [
    "import scipy.stats\n",
    "from scipy import stats\n",
    "import seaborn as sns\n",
    "\n",
    "x = [\n",
    "    central_tolerance['mean'].mean(),\n",
    "    northwestern_tolerance['mean'].mean(),\n",
    "    volga_tolerance['mean'].mean(),\n",
    "    siberian_tolerance['mean'].mean(),\n",
    "\n",
    "]\n",
    "\n",
    "y = [\n",
    "    central_vsm['vsm_score'].mean(),\n",
    "    northwestern_vsm['vsm_score'].mean(),\n",
    "    volga_vsm['vsm_score'].mean(),\n",
    "    siberian_vsm['vsm_score'].mean(),\n",
    "]\n",
    "\n",
    "pearson = scipy.stats.pearsonr(x, y)\n",
    "spearman = scipy.stats.spearmanr(x, y)\n",
    "slope, intercept, r, p, std_err = stats.linregress(x, y)\n",
    "(slope, intercept, r, p, std_err)\n"
   ]
  },
  {
   "cell_type": "code",
   "execution_count": 137,
   "id": "68f6fb25",
   "metadata": {},
   "outputs": [],
   "source": [
    "a = (central_tolerance['mean'].mean(), central_vsm['vsm_score'].mean())\n",
    "b = (northwestern_tolerance['mean'].mean(), northwestern_vsm['vsm_score'].mean())\n",
    "c = (southern_tolerance['mean'].mean(), southern_vsm['vsm_score'].mean())\n",
    "d = (north_caucasian_tolerance['mean'].mean(), north_caucasian_vsm['vsm_score'].mean())\n",
    "e = (volga_tolerance['mean'].mean(), volga_vsm['vsm_score'].mean())\n",
    "f = (ural_tolerance['mean'].mean(), ural_vsm['vsm_score'].mean())\n",
    "g = (siberian_tolerance['mean'].mean(), siberian_vsm['vsm_score'].mean())\n",
    "h = (far_eastern_tolerance['mean'].mean(), far_eastern_vsm['vsm_score'].mean())"
   ]
  },
  {
   "cell_type": "code",
   "execution_count": 138,
   "id": "8698ca6a",
   "metadata": {},
   "outputs": [],
   "source": [
    "central_tol, central_con, central_pdi = central_tolerance['mean'], central_consideration['mean'], central_vsm['vsm_score']\n",
    "northwestern_tol, northwestern_con, northwestern_pdi  = northwestern_tolerance['mean'], northwestern_consideration['mean'], northwestern_vsm['vsm_score']\n",
    "southern_tol, southern_con, southern_pdi = southern_tolerance['mean'], southern_consideration['mean'], southern_vsm['vsm_score']\n",
    "north_caucasian_tol, north_caucasian_con, north_caucasian_pdi = north_caucasian_tolerance['mean'], north_caucasian_consideration['mean'], north_caucasian_vsm['vsm_score']\n",
    "volga_tol, volga_con, volga_pdi = volga_tolerance['mean'], volga_consideration['mean'], volga_vsm['vsm_score']\n",
    "ural_tol, ural_con, ural_pdi = ural_tolerance['mean'], ural_consideration['mean'], ural_vsm['vsm_score']\n",
    "siberian_tol, siberian_con, siberian_pdi = siberian_tolerance['mean'], siberian_consideration['mean'], siberian_vsm['vsm_score']\n",
    "far_eastern_tol, far_eastern_con, far_eastern_pdi = far_eastern_tolerance['mean'], far_eastern_consideration['mean'], far_eastern_vsm['vsm_score']\n",
    "\n"
   ]
  },
  {
   "cell_type": "code",
   "execution_count": 143,
   "id": "eaafc6d9",
   "metadata": {},
   "outputs": [
    {
     "name": "stdout",
     "output_type": "stream",
     "text": [
      "Central - tolerance:\n",
      "Pearson: (-0.11173150870761883, 0.4211850535994898)\n",
      "Spearman: SpearmanrResult(correlation=-0.14359398690304653, pvalue=0.30025535681906923)\n",
      "Slope: -10.734397121597604 Intercept: 85.12007536645345 r: -0.11173150870761889 p-value: 0.4211850535994883 std error: 13.239525152703248 r2:  0.012483930038080715\n",
      "\n",
      "\n",
      "Central - consideration:\n",
      "Pearson: (0.050964697861030056, 0.714374516782034)\n",
      "Spearman: SpearmanrResult(correlation=0.09657273909355354, pvalue=0.48725406736196686)\n",
      "Slope: 5.299185795688331 ---Intercept: 25.82954077879329 ---r: 0.05096469786103008 ---p-value: 0.7143745167820343 ---std error: 14.400357331907141 r2:  0.0025974004280660836\n"
     ]
    }
   ],
   "source": [
    "# Central - tolerance\n",
    "pearson = scipy.stats.pearsonr(central_tol, central_pdi)\n",
    "spearman = scipy.stats.spearmanr(central_tol, central_pdi)\n",
    "slope, intercept, r, p, std_err = stats.linregress(central_tol, central_pdi)\n",
    "print(\"Central - tolerance:\")\n",
    "print('Pearson:', pearson)\n",
    "print('Spearman:',spearman)\n",
    "print('Slope:', slope, 'Intercept:', intercept, 'r:', r, 'p-value:', p, 'std error:', std_err, \"r2: \", r**2)\n",
    "print('\\n')\n",
    "\n",
    "# Central - consideration\n",
    "pearson = scipy.stats.pearsonr(central_con, central_pdi)\n",
    "spearman = scipy.stats.spearmanr(central_con, central_pdi)\n",
    "slope, intercept, r, p, std_err = stats.linregress(central_con, central_pdi)\n",
    "print(\"Central - consideration:\")\n",
    "print('Pearson:', pearson)\n",
    "print('Spearman:', spearman)\n",
    "print('Slope:', slope, '---Intercept:', intercept, '---r:', r, '---p-value:', p, '---std error:', std_err, \"r2: \", r**2)\n",
    "\n"
   ]
  },
  {
   "cell_type": "code",
   "execution_count": 142,
   "id": "4800fcce",
   "metadata": {},
   "outputs": [
    {
     "name": "stdout",
     "output_type": "stream",
     "text": [
      "Northwestern - tolerance:\n",
      "Pearson: (-0.09089191731954427, 0.6727453007153062)\n",
      "Spearman: SpearmanrResult(correlation=0.029366852427539895, pvalue=0.89165023421177)\n",
      "Slope: -10.62611100138258 Intercept: 70.91842780959905 r: -0.09089191731954427 p-value: 0.6727453007153052 std error: 24.821976756930738 r2:  0.008261340634022871\n",
      "\n",
      "\n",
      "Northwestern - consideration:\n",
      "Pearson: (0.059817736338951044, 0.7812806787323376)\n",
      "Spearman: SpearmanrResult(correlation=0.04182551709376894, pvalue=0.8461380074001751)\n",
      "Slope: 5.705271460496909 Intercept: 5.608649927698178 r: 0.05981773633895108 p-value: 0.7812806787323384 std error: 20.29815746910887 r2:  0.0035781615807162683\n"
     ]
    }
   ],
   "source": [
    "# Northwestern - tolerance\n",
    "pearson = scipy.stats.pearsonr(northwestern_tol, northwestern_pdi)\n",
    "spearman = scipy.stats.spearmanr(northwestern_tol, northwestern_pdi)\n",
    "slope, intercept, r, p, std_err = stats.linregress(northwestern_tol, northwestern_pdi)\n",
    "print(\"Northwestern - tolerance:\")\n",
    "print('Pearson:', pearson)\n",
    "print('Spearman:',spearman)\n",
    "print('Slope:', slope, 'Intercept:', intercept, 'r:', r, 'p-value:', p, 'std error:', std_err, \"r2: \", r**2)\n",
    "print('\\n')\n",
    "\n",
    "# Northwestern - consideration\n",
    "pearson = scipy.stats.pearsonr(northwestern_con, northwestern_pdi)\n",
    "spearman = scipy.stats.spearmanr(northwestern_con, northwestern_pdi)\n",
    "slope, intercept, r, p, std_err = stats.linregress(northwestern_con, northwestern_pdi)\n",
    "print(\"Northwestern - consideration:\")\n",
    "print('Pearson:', pearson)\n",
    "print('Spearman:', spearman)\n",
    "print('Slope:', slope, 'Intercept:', intercept, 'r:', r, 'p-value:', p, 'std error:', std_err, \"r2: \", r**2)"
   ]
  },
  {
   "cell_type": "code",
   "execution_count": 52,
   "id": "d287b034",
   "metadata": {},
   "outputs": [
    {
     "name": "stdout",
     "output_type": "stream",
     "text": [
      "Southern - tolerance:\n",
      "Pearson: (-0.155267522584625, 0.6684227611990802)\n",
      "Spearman: SpearmanrResult(correlation=-0.25609756097560976, pvalue=0.47510543758571366)\n",
      "Slope: -8.619210977701545 Intercept: 66.9082332761578 r: -0.155267522584625 p-value: 0.6684227611990803 std error: 19.388435776524908\n",
      "\n",
      "\n",
      "Southern - tolerance:\n",
      "Pearson: (-0.0393408826502412, 0.9140748882432006)\n",
      "Spearman: SpearmanrResult(correlation=-0.22935887064971566, pvalue=0.5238482035169605)\n",
      "Slope: -2.5134904856574933 Intercept: 44.6293666571997 r: -0.03934088265024115 p-value: 0.9140748882432013 std error: 22.5710525765545\n"
     ]
    }
   ],
   "source": [
    "# Southern - tolerance\n",
    "pearson = scipy.stats.pearsonr(southern_tol, southern_pdi)\n",
    "spearman = scipy.stats.spearmanr(southern_tol, southern_pdi)\n",
    "slope, intercept, r, p, std_err = stats.linregress(southern_tol, southern_pdi)\n",
    "print(\"Southern - tolerance:\")\n",
    "print('Pearson:', pearson)\n",
    "print('Spearman:',spearman)\n",
    "print('Slope:', slope, 'Intercept:', intercept, 'r:', r, 'p-value:', p, 'std error:', std_err)\n",
    "print('\\n')\n",
    "\n",
    "# Southern - consideration\n",
    "pearson = scipy.stats.pearsonr(southern_con, southern_pdi)\n",
    "spearman = scipy.stats.spearmanr(southern_con, southern_pdi)\n",
    "slope, intercept, r, p, std_err = stats.linregress(southern_con, southern_pdi)\n",
    "print(\"Southern - consideration:\")\n",
    "print('Pearson:', pearson)\n",
    "print('Spearman:',spearman)\n",
    "print('Slope:', slope, 'Intercept:', intercept, 'r:', r, 'p-value:', p, 'std error:', std_err)"
   ]
  },
  {
   "cell_type": "code",
   "execution_count": 53,
   "id": "077fcf46",
   "metadata": {},
   "outputs": [
    {
     "name": "stdout",
     "output_type": "stream",
     "text": [
      "North-Caucasian - tolerance:\n",
      "Pearson: (0.8343810775727935, 0.16561892242720655)\n",
      "Spearman: SpearmanrResult(correlation=0.9486832980505139, pvalue=0.051316701949486114)\n",
      "Slope: 270.3703703703704 Intercept: -953.8888888888889 r: 0.8343810775727933 p-value: 0.1656189224272066 std error: 126.29303786390749\n",
      "\n",
      "\n",
      "North-Caucasian - consideration:\n",
      "Pearson: (0.5899936045039906, 0.41000639549600937)\n",
      "Spearman: SpearmanrResult(correlation=0.7378647873726218, pvalue=0.2621352126273781)\n",
      "Slope: 131.57894736842098 Intercept: -486.05263157894717 r: 0.5899936045039905 p-value: 0.4100063954960096 std error: 127.32600424634676\n"
     ]
    }
   ],
   "source": [
    "# North-Caucasian - tolerance\n",
    "pearson = scipy.stats.pearsonr(north_caucasian_tol, north_caucasian_pdi)\n",
    "spearman = scipy.stats.spearmanr(north_caucasian_tol, north_caucasian_pdi)\n",
    "slope, intercept, r, p, std_err = stats.linregress(north_caucasian_tol, north_caucasian_pdi)\n",
    "print(\"North-Caucasian - tolerance:\")\n",
    "print('Pearson:', pearson)\n",
    "print('Spearman:',spearman)\n",
    "print('Slope:', slope, 'Intercept:', intercept, 'r:', r, 'p-value:', p, 'std error:', std_err)\n",
    "print('\\n')\n",
    "\n",
    "# North-Caucasian - consideration\n",
    "pearson = scipy.stats.pearsonr(north_caucasian_con, north_caucasian_pdi)\n",
    "spearman = scipy.stats.spearmanr(north_caucasian_con, north_caucasian_pdi)\n",
    "slope, intercept, r, p, std_err = stats.linregress(north_caucasian_con, north_caucasian_pdi)\n",
    "print(\"North-Caucasian - consideration:\")\n",
    "print('Pearson:', pearson)\n",
    "print('Spearman:',spearman)\n",
    "print('Slope:', slope, 'Intercept:', intercept, 'r:', r, 'p-value:', p, 'std error:', std_err)"
   ]
  },
  {
   "cell_type": "code",
   "execution_count": 144,
   "id": "a14e15b9",
   "metadata": {},
   "outputs": [
    {
     "name": "stdout",
     "output_type": "stream",
     "text": [
      "Volga - tolerance:\n",
      "Pearson: (-0.08453817757534521, 0.599228270475634)\n",
      "Spearman: SpearmanrResult(correlation=0.0328455608288716, pvalue=0.8384589531908282)\n",
      "Slope: -7.485864047216147 Intercept: 67.0345453795039 r: -0.08453817757534524 p-value: 0.5992282704756331 std error: 14.128605266918097 r2:  0.0071467034677606045\n",
      "\n",
      "\n",
      "Volga - consideration:\n",
      "Pearson: (-0.0752508403188255, 0.6400682551482024)\n",
      "Spearman: SpearmanrResult(correlation=0.05104766226069726, pvalue=0.7512717840517511)\n",
      "Slope: -6.610210795662236 Intercept: 65.75667113439745 r: -0.0752508403188255 p-value: 0.6400682551482022 std error: 14.026151307595322 r2:  0.0056626889686893726\n"
     ]
    }
   ],
   "source": [
    "# Volga - tolerance\n",
    "pearson = scipy.stats.pearsonr(volga_tol, volga_pdi)\n",
    "spearman = scipy.stats.spearmanr(volga_tol, volga_pdi)\n",
    "slope, intercept, r, p, std_err = stats.linregress(volga_tol, volga_pdi)\n",
    "print(\"Volga - tolerance:\")\n",
    "print('Pearson:', pearson)\n",
    "print('Spearman:',spearman)\n",
    "print('Slope:', slope, 'Intercept:', intercept, 'r:', r, 'p-value:', p, 'std error:', std_err, \"r2: \", r**2)\n",
    "print('\\n')\n",
    "\n",
    "# Volga - consideration\n",
    "pearson = scipy.stats.pearsonr(volga_con, volga_pdi)\n",
    "spearman = scipy.stats.spearmanr(volga_con, volga_pdi)\n",
    "slope, intercept, r, p, std_err = stats.linregress(volga_con, volga_pdi)\n",
    "print(\"Volga - consideration:\")\n",
    "print('Pearson:', pearson)\n",
    "print('Spearman:',spearman)\n",
    "print('Slope:', slope, 'Intercept:', intercept, 'r:', r, 'p-value:', p, 'std error:', std_err, \"r2: \", r**2)"
   ]
  },
  {
   "cell_type": "code",
   "execution_count": 56,
   "id": "ae2680af",
   "metadata": {},
   "outputs": [
    {
     "name": "stdout",
     "output_type": "stream",
     "text": [
      "Ural - tolerance:\n",
      "Pearson: (-0.09397062206044031, 0.7714454231267289)\n",
      "Spearman: SpearmanrResult(correlation=-0.23487544483985764, pvalue=0.462446134715648)\n",
      "Slope: -16.017964071856284 Intercept: 86.44710578842314 r: -0.09397062206044032 p-value: 0.7714454231267296 std error: 53.664758966707026\n",
      "\n",
      "\n",
      "Ural - consideration:\n",
      "Pearson: (-0.04791877898603621, 0.882435175553977)\n",
      "Spearman: SpearmanrResult(correlation=-0.003552403472273746, pvalue=0.991257904176081)\n",
      "Slope: -6.856540084388173 Intercept: 55.9810126582278 r: -0.04791877898603622 p-value: 0.8824351755539769 std error: 45.19600907024249\n"
     ]
    }
   ],
   "source": [
    "# Ural - tolerance\n",
    "pearson = scipy.stats.pearsonr(ural_tol, ural_pdi)\n",
    "spearman = scipy.stats.spearmanr(ural_tol, ural_pdi)\n",
    "slope, intercept, r, p, std_err = stats.linregress(ural_tol, ural_pdi)\n",
    "print(\"Ural - tolerance:\")\n",
    "print('Pearson:', pearson)\n",
    "print('Spearman:',spearman)\n",
    "print('Slope:', slope, 'Intercept:', intercept, 'r:', r, 'p-value:', p, 'std error:', std_err)\n",
    "print('\\n')\n",
    "\n",
    "# Ural - consideration\n",
    "pearson = scipy.stats.pearsonr(ural_con, ural_pdi)\n",
    "spearman = scipy.stats.spearmanr(ural_con, ural_pdi)\n",
    "slope, intercept, r, p, std_err = stats.linregress(ural_con, ural_pdi)\n",
    "print(\"Ural - consideration:\")\n",
    "print('Pearson:', pearson)\n",
    "print('Spearman:',spearman)\n",
    "print('Slope:', slope, 'Intercept:', intercept, 'r:', r, 'p-value:', p, 'std error:', std_err)\n"
   ]
  },
  {
   "cell_type": "code",
   "execution_count": 145,
   "id": "3958e012",
   "metadata": {},
   "outputs": [
    {
     "name": "stdout",
     "output_type": "stream",
     "text": [
      "Siberia - tolerance:\n",
      "Pearson: (0.16117993345602258, 0.20695683509725935)\n",
      "Spearman: SpearmanrResult(correlation=0.09082905498590794, pvalue=0.4789688493295017)\n",
      "Slope: 18.327686402333107 Intercept: -36.76152081144252 r: 0.1611799334560225 p-value: 0.20695683509726018 std error: 14.368648548926938 r2:  0.02597897094888784\n",
      "\n",
      "\n",
      "Siberia - consideration:\n",
      "Pearson: (0.03387045155847862, 0.7921417231224797)\n",
      "Spearman: SpearmanrResult(correlation=-0.014892934226044086, pvalue=0.9077728073116784)\n",
      "Slope: 4.112469437652804 Intercept: 16.424449877750646 r: 0.0338704515584786 p-value: 0.7921417231224802 std error: 15.537012793326019 r2:  0.0011472074887752455\n"
     ]
    }
   ],
   "source": [
    "# Siberia - tolerance\n",
    "pearson = scipy.stats.pearsonr(siberian_tol, siberian_pdi)\n",
    "spearman = scipy.stats.spearmanr(siberian_tol, siberian_pdi)\n",
    "slope, intercept, r, p, std_err = stats.linregress(siberian_tol, siberian_pdi)\n",
    "print(\"Siberia - tolerance:\")\n",
    "print('Pearson:', pearson)\n",
    "print('Spearman:',spearman)\n",
    "print('Slope:', slope, 'Intercept:', intercept, 'r:', r, 'p-value:', p, 'std error:', std_err, \"r2: \", r**2)\n",
    "print('\\n')\n",
    "\n",
    "# Siberia - consideration\n",
    "pearson = scipy.stats.pearsonr(siberian_con, siberian_pdi)\n",
    "spearman = scipy.stats.spearmanr(siberian_con, siberian_pdi)\n",
    "slope, intercept, r, p, std_err = stats.linregress(siberian_con, siberian_pdi)\n",
    "print(\"Siberia - consideration:\")\n",
    "print('Pearson:', pearson)\n",
    "print('Spearman:',spearman)\n",
    "print('Slope:', slope, 'Intercept:', intercept, 'r:', r, 'p-value:', p, 'std error:', std_err, \"r2: \", r**2)"
   ]
  },
  {
   "cell_type": "code",
   "execution_count": 58,
   "id": "7c822b67",
   "metadata": {},
   "outputs": [
    {
     "name": "stdout",
     "output_type": "stream",
     "text": [
      "Far Eastern - tolerance:\n",
      "Pearson: (-0.23728729055652253, 0.8474834536087886)\n",
      "Spearman: SpearmanrResult(correlation=-0.5, pvalue=0.6666666666666667)\n",
      "Slope: -8.957654723127032 Intercept: 109.51140065146578 r: -0.23728729055652265 p-value: 0.8474834536087883 std error: 36.67208550227265\n",
      "\n",
      "\n",
      "Far Eastern - consideration:\n",
      "Pearson: (0.24854790640047963, 0.8400933178119906)\n",
      "Spearman: SpearmanrResult(correlation=0.5, pvalue=0.6666666666666667)\n",
      "Slope: 27.027027027026975 Intercept: -35.94594594594574 r: 0.24854790640047963 p-value: 0.8400933178119905 std error: 105.32741397378305\n"
     ]
    }
   ],
   "source": [
    "# Far Eastern - tolerance\n",
    "pearson = scipy.stats.pearsonr(far_eastern_tol, far_eastern_pdi)\n",
    "spearman = scipy.stats.spearmanr(far_eastern_tol, far_eastern_pdi)\n",
    "slope, intercept, r, p, std_err = stats.linregress(far_eastern_tol, far_eastern_pdi)\n",
    "print(\"Far Eastern - tolerance:\")\n",
    "print('Pearson:', pearson)\n",
    "print('Spearman:',spearman)\n",
    "print('Slope:', slope, 'Intercept:', intercept, 'r:', r, 'p-value:', p, 'std error:', std_err)\n",
    "print('\\n')\n",
    "\n",
    "# Far Eastern - consideration\n",
    "pearson = scipy.stats.pearsonr(far_eastern_con, far_eastern_pdi)\n",
    "spearman = scipy.stats.spearmanr(far_eastern_con, far_eastern_pdi)\n",
    "slope, intercept, r, p, std_err = stats.linregress(far_eastern_con, far_eastern_pdi)\n",
    "print(\"Far Eastern - consideration:\")\n",
    "print('Pearson:', pearson)\n",
    "print('Spearman:',spearman)\n",
    "print('Slope:', slope, 'Intercept:', intercept, 'r:', r, 'p-value:', p, 'std error:', std_err)"
   ]
  },
  {
   "cell_type": "code",
   "execution_count": null,
   "id": "b7b43bb0",
   "metadata": {},
   "outputs": [],
   "source": []
  },
  {
   "cell_type": "code",
   "execution_count": null,
   "id": "6a10dcd9",
   "metadata": {},
   "outputs": [],
   "source": [
    "sns.set_theme(color_codes=True)\n",
    "g = sns.regplot(x=x, y=y)\n",
    "g.set_title(\"Power Distance and Tolerance of Freedom\");\n",
    "g.set(xlabel=\"Tolerance of Freedom\",\n",
    "      ylabel=\"Power Distance\");\n",
    "# plt.savefig('pdi-tol.png', dpi=300)"
   ]
  },
  {
   "cell_type": "code",
   "execution_count": 257,
   "id": "e5e2f0e1",
   "metadata": {},
   "outputs": [
    {
     "name": "stdout",
     "output_type": "stream",
     "text": [
      "Pearson: -0.9953173043128088 0.004682695687191152\n",
      "Spearman: -1.0 0.0\n",
      "LinReg: Slope: -42.44618707109263 Intercept: 205.11283449916738 R: -0.9953173043128088 Pvalue: 0.00468269568719115 std_err: 2.914849146576377\n"
     ]
    },
    {
     "data": {
      "text/plain": [
       "0.9906565362645166"
      ]
     },
     "execution_count": 257,
     "metadata": {},
     "output_type": "execute_result"
    }
   ],
   "source": [
    "x = [\n",
    "    central_consideration['mean'].mean(),\n",
    "    northwestern_consideration['mean'].mean(),\n",
    "#     southern_consideration['mean'].mean(),\n",
    "#     north_caucasian_tolerance['mean'].mean(),\n",
    "    volga_consideration['mean'].mean(),\n",
    "#     ural_consideration['mean'].mean(),\n",
    "    siberian_consideration['mean'].mean(),\n",
    "#     far_eastern_tolerance['mean'].mean(),\n",
    "]\n",
    "\n",
    "y = [\n",
    "    central_vsm['vsm_score'].mean(),\n",
    "    northwestern_vsm['vsm_score'].mean(),\n",
    "#     southern_vsm['vsm_score'].mean(),\n",
    "#     north_caucasian_vsm['vsm_score'].mean(),\n",
    "    volga_vsm['vsm_score'].mean(),\n",
    "#     ural_vsm['vsm_score'].mean(),\n",
    "    siberian_vsm['vsm_score'].mean(),\n",
    "#     far_eastern_vsm['vsm_score'].mean(),\n",
    "]\n",
    "\n",
    "pearson = scipy.stats.pearsonr(x, y)\n",
    "spearman = scipy.stats.spearmanr(x, y)\n",
    "slope, intercept, r, p, std_err = stats.linregress(x, y)\n",
    "print('Pearson:', *pearson)\n",
    "print('Spearman:', *spearman)\n",
    "print('LinReg:', 'Slope:', slope, 'Intercept:',intercept, 'R:', r, 'Pvalue:', p,'std_err:', std_err)\n",
    "r ** 2"
   ]
  },
  {
   "cell_type": "code",
   "execution_count": null,
   "id": "a394354c",
   "metadata": {},
   "outputs": [],
   "source": []
  },
  {
   "cell_type": "code",
   "execution_count": 124,
   "id": "b2870a84",
   "metadata": {},
   "outputs": [
    {
     "data": {
      "image/png": "[encoded data removed]",
      "text/plain": [
       "<Figure size 432x288 with 1 Axes>"
      ]
     },
     "metadata": {},
     "output_type": "display_data"
    }
   ],
   "source": [
    "sns.set_theme(color_codes=True)\n",
    "g = sns.regplot(x=x, y=y)\n",
    "g.set_title(\"Power Distance and Consideration\");\n",
    "g.set(xlabel=\"Consideration\",\n",
    "      ylabel=\"Power Distance\");\n",
    "plt.savefig('pdi-con.png', dpi=300)"
   ]
  },
  {
   "cell_type": "code",
   "execution_count": 174,
   "id": "dce1573f",
   "metadata": {},
   "outputs": [],
   "source": [
    "df = pd.read_csv('df.csv', decimal)\n",
    "df['age'] = df.apply(lambda row : 2022 - row['birth'], axis = 1)"
   ]
  },
  {
   "cell_type": "code",
   "execution_count": 175,
   "id": "724c7507",
   "metadata": {},
   "outputs": [],
   "source": [
    "central = ['Москва', 'Иваново', 'Тверь', 'Воронеж', 'Ярославль', 'Владимир', 'Липецк', 'Курск', 'Смоленск', 'Белгород', 'Орёл', 'Тула'] # 45\n",
    "northwestern = ['Санкт-Петербург', 'Сланцы', 'Петрозаводск', 'Калининград'] # 22\n",
    "southern = ['Краснодар', 'Ростов-на-Дону', 'Абинск', 'Волгоград'] # 8 \n",
    "north_caucasian = ['Невинномысск', 'Ставрополь', 'Сочи'] # 3\n",
    "volga = ['Казань', 'Пермь', 'Оренбург', 'Тольятти', 'Самара', 'Киров', 'Уфа', 'Баймак', 'Саратов', 'Ульяновск', 'Березники', 'Нижний Новгород', 'Дзержинск', 'Ижевск', 'Алатырь', 'Чебоксары'] # 26\n",
    "ural = ['Екатеринбург', 'Челябинск', 'Магнитогорск', 'Тюмень', 'Тобольск', 'Сургут'] # 9\n",
    "siberian = ['Новосибирск', 'Иркутск', 'Ангарск', 'Кемерово', 'Барнаул', 'Томск', 'Новокузнецк', 'Омск', 'Купино', 'Красноярск'] # 62\n",
    "far_eastern = ['Арсеньев', 'Хабаровск'] # 2"
   ]
  },
  {
   "cell_type": "code",
   "execution_count": 176,
   "id": "e28328bc",
   "metadata": {},
   "outputs": [],
   "source": [
    "central = df.loc[df['city'].isin(central), :]\n",
    "northwestern = df.loc[df['city'].isin(northwestern), :]\n",
    "southern = df.loc[df['city'].isin(southern), :]\n",
    "north_caucasian = df.loc[df['city'].isin(north_caucasian), :]\n",
    "volga = df.loc[df['city'].isin(volga), :]\n",
    "ural = df.loc[df['city'].isin(ural), :]\n",
    "siberian = df.loc[df['city'].isin(siberian), :]\n",
    "far_eastern = df.loc[df['city'].isin(far_eastern), :]\n",
    "\n"
   ]
  },
  {
   "cell_type": "code",
   "execution_count": 192,
   "id": "f1446534",
   "metadata": {},
   "outputs": [
    {
     "data": {
      "text/plain": [
       "0.18773202007210446"
      ]
     },
     "execution_count": 192,
     "metadata": {},
     "output_type": "execute_result"
    }
   ],
   "source": [
    "column_1 = central[\"age\"]\n",
    "column_2 = central[\"tol_mean\"]\n",
    "correlation = column_1.corr(column_2)\n",
    "correlation\n",
    "\n",
    "# central['tol_mean'] = pd.to_numeric(central['tol_mean'])\n",
    "# central['age'] = pd.to_numeric(central['age'])\n",
    "\n",
    "x = siberian[\"age\"]\n",
    "y = siberian[\"con_mean\"]\n",
    "\n",
    "pearson = scipy.stats.pearsonr(x, y)\n",
    "spearman = scipy.stats.spearmanr(x, y)\n",
    "slope, intercept, r, p, std_err = stats.linregress(x, y)"
   ]
  },
  {
   "cell_type": "code",
   "execution_count": 246,
   "id": "b114719f",
   "metadata": {},
   "outputs": [
    {
     "ename": "NameError",
     "evalue": "name 'ff' is not defined",
     "output_type": "error",
     "traceback": [
      "\u001b[0;31m---------------------------------------------------------------------------\u001b[0m",
      "\u001b[0;31mNameError\u001b[0m                                 Traceback (most recent call last)",
      "Input \u001b[0;32mIn [246]\u001b[0m, in \u001b[0;36m<cell line: 1>\u001b[0;34m()\u001b[0m\n\u001b[0;32m----> 1\u001b[0m \u001b[43mff\u001b[49m\n",
      "\u001b[0;31mNameError\u001b[0m: name 'ff' is not defined"
     ]
    }
   ],
   "source": []
  }
 ],
 "metadata": {
  "kernelspec": {
   "display_name": "Python 3 (ipykernel)",
   "language": "python",
   "name": "python3"
  },
  "language_info": {
   "codemirror_mode": {
    "name": "ipython",
    "version": 3
   },
   "file_extension": ".py",
   "mimetype": "text/x-python",
   "name": "python",
   "nbconvert_exporter": "python",
   "pygments_lexer": "ipython3",
   "version": "3.9.7"
  }
 },
 "nbformat": 4,
 "nbformat_minor": 5
}
